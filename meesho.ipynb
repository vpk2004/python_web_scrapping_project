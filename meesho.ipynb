{
 "cells": [
  {
   "cell_type": "code",
   "execution_count": 1,
   "metadata": {},
   "outputs": [],
   "source": [
    "import selenium.webdriver as driver\n",
    "import pandas as pd\n",
    "from time import sleep\n",
    "from selenium.webdriver.common.by import By\n",
    "from selenium import webdriver\n",
    "from webdriver_manager.chrome import ChromeDriverManager"
   ]
  },
  {
   "cell_type": "code",
   "execution_count": 2,
   "metadata": {},
   "outputs": [],
   "source": [
    "man=driver.Chrome()\n",
    "man.get(\"https://www.meesho.com/\")"
   ]
  },
  {
   "cell_type": "code",
   "execution_count": 3,
   "metadata": {},
   "outputs": [],
   "source": [
    "man.find_element(By.XPATH,'//*[@id=\"__next\"]/div[2]/div[1]/div/div[2]/div[1]/input').send_keys(\"dress for mens\")"
   ]
  },
  {
   "cell_type": "code",
   "execution_count": 6,
   "metadata": {},
   "outputs": [],
   "source": [
    "p_name=man.find_elements(By.XPATH,'//p[@class=\"sc-eDvSVe gQDOBc NewProductCardstyled__StyledDesktopProductTitle-sc-6y2tys-5 ejhQZU NewProductCardstyled__StyledDesktopProductTitle-sc-6y2tys-5 ejhQZU\"]')"
   ]
  },
  {
   "cell_type": "code",
   "execution_count": 7,
   "metadata": {},
   "outputs": [],
   "source": [
    "pr_cost=man.find_elements(By.XPATH,'//h5[@class=\"sc-eDvSVe dwCrSh\"]')"
   ]
  },
  {
   "cell_type": "code",
   "execution_count": 8,
   "metadata": {},
   "outputs": [
    {
     "name": "stdout",
     "output_type": "stream",
     "text": [
      "['Charvi Superior Kurtis', 'Unique Night Lights', 'Sensational Gentle Bath Scrubs & Soaps', 'Diva Glittering Jewellery Sets', 'Pretty Funky Girls Frocks & Dresses', 'Abhisarika Alluring Sarees', 'Motorola E13 Cases & Covers', 'Raysfield Life Style Casual Shoes For Men', 'Trendy Designer Women Tshirts', 'Useful Clothes Covers', 'Chitrarekha Attractive Kurtis', 'Aagyeyi Alluring Sarees', 'Elite Beautiful Mangalsutras', 'Flawsome Fancy Boys Top & Bottom Sets', 'Poco C61,Mi Redmi,Redmi A3 Cases & Covers', 'New Body Creams', 'Alisha Petite Kurtis', 'APPLE iPhone 13 Cases & Covers', 'Pretty Comfy Girls Top & Bottom Sets', 'Relaxed Fashionable Men Flip Flops']\n",
      "['₹166', '₹213', '₹224', '₹185', '₹156', '₹283', '₹158', '₹345', '₹132', '₹179', '₹194', '₹409', '₹186', '₹175', '₹152', '₹117', '₹315', '₹185', '₹114', '₹199']\n"
     ]
    }
   ],
   "source": [
    "product=[]\n",
    "price=[]\n",
    "for p,c in zip(p_name,pr_cost):\n",
    "    product.append(p.text)\n",
    "    price.append(c.text)\n",
    "print(product)\n",
    "print(price)"
   ]
  },
  {
   "cell_type": "code",
   "execution_count": 9,
   "metadata": {},
   "outputs": [],
   "source": [
    "val=pd.DataFrame({\"Product_Name\":product,\"Cost\":price})\n",
    "val.to_excel(\"C:/Users/Praveen Kumar/Dataset/Task_File/meesho.xlsx\",index=False)"
   ]
  },
  {
   "cell_type": "code",
   "execution_count": null,
   "metadata": {},
   "outputs": [],
   "source": []
  }
 ],
 "metadata": {
  "kernelspec": {
   "display_name": "base",
   "language": "python",
   "name": "python3"
  },
  "language_info": {
   "codemirror_mode": {
    "name": "ipython",
    "version": 3
   },
   "file_extension": ".py",
   "mimetype": "text/x-python",
   "name": "python",
   "nbconvert_exporter": "python",
   "pygments_lexer": "ipython3",
   "version": "3.12.7"
  }
 },
 "nbformat": 4,
 "nbformat_minor": 2
}

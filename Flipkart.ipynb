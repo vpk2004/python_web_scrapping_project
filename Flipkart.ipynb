{
 "cells": [
  {
   "cell_type": "code",
   "execution_count": 2,
   "metadata": {},
   "outputs": [],
   "source": [
    "import selenium.webdriver as driver\n",
    "import pandas as ps\n",
    "from selenium.webdriver.common.by import By\n",
    "from time import sleep\n",
    "from selenium import webdriver\n",
    "from webdriver_manager.chrome import ChromeDriverManager\n",
    "\n",
    "driver=webdriver.Chrome()\n",
    "driver.get(\"https://www.flipkart.in/\")"
   ]
  },
  {
   "cell_type": "code",
   "execution_count": 2,
   "metadata": {},
   "outputs": [],
   "source": [
    "driver.find_element(By.XPATH,'//*[@id=\"container\"]/div/div[1]/div/div/div/div/div[1]/div/div/div/div[1]/div[1]/header/div[1]/div[2]/form/div/div/input').send_keys(\"Iphone 15\")"
   ]
  },
  {
   "cell_type": "code",
   "execution_count": 3,
   "metadata": {},
   "outputs": [],
   "source": [
    "driver.find_element(By.XPATH,'//*[@id=\"container\"]/div/div[1]/div/div/div/div/div[1]/div/div/div/div[1]/div[1]/header/div[1]/div[2]/form/div/button').click()"
   ]
  },
  {
   "cell_type": "code",
   "execution_count": 4,
   "metadata": {},
   "outputs": [],
   "source": [
    "item = driver.find_elements(By.XPATH,'//div[@class=\"KzDlHZ\"]')"
   ]
  },
  {
   "cell_type": "code",
   "execution_count": 5,
   "metadata": {},
   "outputs": [],
   "source": [
    "price = driver.find_elements(By.XPATH,'//div[@class=\"Nx9bqj _4b5DiR\"]')"
   ]
  },
  {
   "cell_type": "code",
   "execution_count": 6,
   "metadata": {},
   "outputs": [
    {
     "data": {
      "text/plain": [
       "[<selenium.webdriver.remote.webelement.WebElement (session=\"f16fcaa9d6007375cfdc64534001648f\", element=\"f.A1A3DE8ED9DF32265C01EF97594C63B4.d.16BDB54D6C87B1D02864736A708E81A4.e.288\")>,\n",
       " <selenium.webdriver.remote.webelement.WebElement (session=\"f16fcaa9d6007375cfdc64534001648f\", element=\"f.A1A3DE8ED9DF32265C01EF97594C63B4.d.16BDB54D6C87B1D02864736A708E81A4.e.289\")>,\n",
       " <selenium.webdriver.remote.webelement.WebElement (session=\"f16fcaa9d6007375cfdc64534001648f\", element=\"f.A1A3DE8ED9DF32265C01EF97594C63B4.d.16BDB54D6C87B1D02864736A708E81A4.e.290\")>,\n",
       " <selenium.webdriver.remote.webelement.WebElement (session=\"f16fcaa9d6007375cfdc64534001648f\", element=\"f.A1A3DE8ED9DF32265C01EF97594C63B4.d.16BDB54D6C87B1D02864736A708E81A4.e.291\")>,\n",
       " <selenium.webdriver.remote.webelement.WebElement (session=\"f16fcaa9d6007375cfdc64534001648f\", element=\"f.A1A3DE8ED9DF32265C01EF97594C63B4.d.16BDB54D6C87B1D02864736A708E81A4.e.292\")>,\n",
       " <selenium.webdriver.remote.webelement.WebElement (session=\"f16fcaa9d6007375cfdc64534001648f\", element=\"f.A1A3DE8ED9DF32265C01EF97594C63B4.d.16BDB54D6C87B1D02864736A708E81A4.e.293\")>,\n",
       " <selenium.webdriver.remote.webelement.WebElement (session=\"f16fcaa9d6007375cfdc64534001648f\", element=\"f.A1A3DE8ED9DF32265C01EF97594C63B4.d.16BDB54D6C87B1D02864736A708E81A4.e.294\")>,\n",
       " <selenium.webdriver.remote.webelement.WebElement (session=\"f16fcaa9d6007375cfdc64534001648f\", element=\"f.A1A3DE8ED9DF32265C01EF97594C63B4.d.16BDB54D6C87B1D02864736A708E81A4.e.295\")>,\n",
       " <selenium.webdriver.remote.webelement.WebElement (session=\"f16fcaa9d6007375cfdc64534001648f\", element=\"f.A1A3DE8ED9DF32265C01EF97594C63B4.d.16BDB54D6C87B1D02864736A708E81A4.e.296\")>,\n",
       " <selenium.webdriver.remote.webelement.WebElement (session=\"f16fcaa9d6007375cfdc64534001648f\", element=\"f.A1A3DE8ED9DF32265C01EF97594C63B4.d.16BDB54D6C87B1D02864736A708E81A4.e.297\")>,\n",
       " <selenium.webdriver.remote.webelement.WebElement (session=\"f16fcaa9d6007375cfdc64534001648f\", element=\"f.A1A3DE8ED9DF32265C01EF97594C63B4.d.16BDB54D6C87B1D02864736A708E81A4.e.298\")>,\n",
       " <selenium.webdriver.remote.webelement.WebElement (session=\"f16fcaa9d6007375cfdc64534001648f\", element=\"f.A1A3DE8ED9DF32265C01EF97594C63B4.d.16BDB54D6C87B1D02864736A708E81A4.e.299\")>,\n",
       " <selenium.webdriver.remote.webelement.WebElement (session=\"f16fcaa9d6007375cfdc64534001648f\", element=\"f.A1A3DE8ED9DF32265C01EF97594C63B4.d.16BDB54D6C87B1D02864736A708E81A4.e.300\")>,\n",
       " <selenium.webdriver.remote.webelement.WebElement (session=\"f16fcaa9d6007375cfdc64534001648f\", element=\"f.A1A3DE8ED9DF32265C01EF97594C63B4.d.16BDB54D6C87B1D02864736A708E81A4.e.301\")>,\n",
       " <selenium.webdriver.remote.webelement.WebElement (session=\"f16fcaa9d6007375cfdc64534001648f\", element=\"f.A1A3DE8ED9DF32265C01EF97594C63B4.d.16BDB54D6C87B1D02864736A708E81A4.e.302\")>,\n",
       " <selenium.webdriver.remote.webelement.WebElement (session=\"f16fcaa9d6007375cfdc64534001648f\", element=\"f.A1A3DE8ED9DF32265C01EF97594C63B4.d.16BDB54D6C87B1D02864736A708E81A4.e.303\")>,\n",
       " <selenium.webdriver.remote.webelement.WebElement (session=\"f16fcaa9d6007375cfdc64534001648f\", element=\"f.A1A3DE8ED9DF32265C01EF97594C63B4.d.16BDB54D6C87B1D02864736A708E81A4.e.304\")>,\n",
       " <selenium.webdriver.remote.webelement.WebElement (session=\"f16fcaa9d6007375cfdc64534001648f\", element=\"f.A1A3DE8ED9DF32265C01EF97594C63B4.d.16BDB54D6C87B1D02864736A708E81A4.e.305\")>,\n",
       " <selenium.webdriver.remote.webelement.WebElement (session=\"f16fcaa9d6007375cfdc64534001648f\", element=\"f.A1A3DE8ED9DF32265C01EF97594C63B4.d.16BDB54D6C87B1D02864736A708E81A4.e.306\")>,\n",
       " <selenium.webdriver.remote.webelement.WebElement (session=\"f16fcaa9d6007375cfdc64534001648f\", element=\"f.A1A3DE8ED9DF32265C01EF97594C63B4.d.16BDB54D6C87B1D02864736A708E81A4.e.307\")>,\n",
       " <selenium.webdriver.remote.webelement.WebElement (session=\"f16fcaa9d6007375cfdc64534001648f\", element=\"f.A1A3DE8ED9DF32265C01EF97594C63B4.d.16BDB54D6C87B1D02864736A708E81A4.e.308\")>,\n",
       " <selenium.webdriver.remote.webelement.WebElement (session=\"f16fcaa9d6007375cfdc64534001648f\", element=\"f.A1A3DE8ED9DF32265C01EF97594C63B4.d.16BDB54D6C87B1D02864736A708E81A4.e.309\")>,\n",
       " <selenium.webdriver.remote.webelement.WebElement (session=\"f16fcaa9d6007375cfdc64534001648f\", element=\"f.A1A3DE8ED9DF32265C01EF97594C63B4.d.16BDB54D6C87B1D02864736A708E81A4.e.310\")>,\n",
       " <selenium.webdriver.remote.webelement.WebElement (session=\"f16fcaa9d6007375cfdc64534001648f\", element=\"f.A1A3DE8ED9DF32265C01EF97594C63B4.d.16BDB54D6C87B1D02864736A708E81A4.e.311\")>]"
      ]
     },
     "execution_count": 6,
     "metadata": {},
     "output_type": "execute_result"
    }
   ],
   "source": [
    "price[0]"
   ]
  },
  {
   "cell_type": "code",
   "execution_count": 7,
   "metadata": {},
   "outputs": [
    {
     "name": "stdout",
     "output_type": "stream",
     "text": [
      "['Apple iPhone 15 (Black, 128 GB)', 'Apple iPhone 15 (Black, 256 GB)', 'Apple iPhone 15 (Pink, 128 GB)', 'Apple iPhone 15 (Green, 256 GB)', 'Apple iPhone 15 (Green, 128 GB)', 'Apple iPhone 15 - Unboxed (Black, 256 GB)', 'Apple iPhone 15 - Unboxed (Black, 128 GB)', 'Apple iPhone 15 - Unboxed (Pink, 256 GB)', 'Apple iPhone 15 - Unboxed (Pink, 128 GB)', 'Apple iPhone 15 - Unboxed (Green, 256 GB)', 'Apple iPhone 15 - Unboxed (Green, 128 GB)', 'Apple iPhone 15 - Unboxed (Yellow, 128 GB)', 'Apple iPhone 15 (Blue, 512 GB)', 'Apple iPhone 15 (Blue, 128 GB)', 'Apple iPhone 15 (Blue, 256 GB)', 'Apple iPhone 15 - Unboxed (Blue, 256 GB)', 'Apple iPhone 15 - Unboxed (Blue, 128 GB)', 'Apple iPhone 15 (Black, 512 GB)', 'Apple iPhone 15 (Pink, 256 GB)', 'Apple iPhone 15 (Pink, 512 GB)', 'Apple iPhone 15 (Green, 512 GB)', 'Apple iPhone 15 (Yellow, 256 GB)', 'Apple iPhone 15 (Yellow, 128 GB)', 'Apple iPhone 15 (Yellow, 512 GB)']\n",
      "['₹58,999', '₹79,900', '₹58,999', '₹79,900', '₹58,999', '₹89,900', '₹79,900', '₹89,900', '₹62,999', '₹89,900', '₹79,900', '₹79,900', '₹99,900', '₹58,999', '₹79,900', '₹89,900', '₹79,900', '₹99,900', '₹79,900', '₹99,900', '₹99,900', '₹79,900', '₹58,999', '₹99,900']\n"
     ]
    }
   ],
   "source": [
    "product = []\n",
    "cost = []\n",
    "for item,price in zip(item , price):\n",
    "    product.append(item.text)\n",
    "    cost.append(price.text)\n",
    "print(product)\n",
    "print(cost)"
   ]
  },
  {
   "cell_type": "code",
   "execution_count": 60,
   "metadata": {},
   "outputs": [],
   "source": [
    "data=ps.DataFrame({\"product\":product,\"price\":cost})\n",
    "data.to_excel(\"D:/Besant Technologies/OCT & NOV Python/flipkart.xlsx\",index=False)"
   ]
  },
  {
   "cell_type": "code",
   "execution_count": null,
   "metadata": {},
   "outputs": [],
   "source": []
  }
 ],
 "metadata": {
  "kernelspec": {
   "display_name": "base",
   "language": "python",
   "name": "python3"
  },
  "language_info": {
   "codemirror_mode": {
    "name": "ipython",
    "version": 3
   },
   "file_extension": ".py",
   "mimetype": "text/x-python",
   "name": "python",
   "nbconvert_exporter": "python",
   "pygments_lexer": "ipython3",
   "version": "3.12.7"
  }
 },
 "nbformat": 4,
 "nbformat_minor": 2
}

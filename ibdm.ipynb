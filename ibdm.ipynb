{
 "cells": [
  {
   "cell_type": "code",
   "execution_count": 3,
   "metadata": {},
   "outputs": [
    {
     "name": "stdout",
     "output_type": "stream",
     "text": [
      "['IMDb Charts', '1. The Shawshank Redemption', '2. The Godfather', '3. The Dark Knight', '4. The Godfather Part II', '5. 12 Angry Men', '6. The Lord of the Rings: The Return of the King', \"7. Schindler's List\", '8. Pulp Fiction', '9. The Lord of the Rings: The Fellowship of the Ring', '10. The Good, the Bad and the Ugly', '11. Forrest Gump', '12. The Lord of the Rings: The Two Towers', '13. Fight Club', '14. Inception', '15. Star Wars: Episode V - The Empire Strikes Back', '16. The Matrix', '17. Goodfellas', \"18. One Flew Over the Cuckoo's Nest\", '19. Interstellar', '20. Se7en', \"21. It's a Wonderful Life\", '22. Seven Samurai', '23. The Silence of the Lambs', '24. Saving Private Ryan', '25. City of God', '26. The Green Mile', '27. Life Is Beautiful', '28. Terminator 2: Judgment Day', '29. Star Wars: Episode IV - A New Hope', '30. Back to the Future', '31. Spirited Away', '32. The Pianist', '33. Gladiator', '34. Parasite', '35. Psycho', '36. The Lion King', '37. The Departed', '38. Grave of the Fireflies', '39. Whiplash', '40. American History X', '41. Harakiri', '42. The Prestige', '43. Spider-Man: Across the Spider-Verse', '44. Léon: The Professional', '45. Casablanca', '46. The Usual Suspects', '47. The Intouchables', '48. Cinema Paradiso', '49. Modern Times', '50. Alien', '51. Rear Window', '52. Once Upon a Time in the West', '53. Dune: Part Two', '54. Django Unchained', '55. City Lights', '56. Apocalypse Now', '57. Memento', '58. WALL·E', '59. Raiders of the Lost Ark', '60. The Lives of Others', '61. Avengers: Infinity War', '62. Sunset Boulevard', '63. Spider-Man: Into the Spider-Verse', '64. Paths of Glory', '65. 12th Fail', '66. Witness for the Prosecution', '67. The Shining', '68. The Great Dictator', '69. Aliens', '70. Inglourious Basterds', '71. The Dark Knight Rises', '72. Coco', '73. Amadeus', '74. Toy Story', '75. Oldboy', '76. Avengers: Endgame', '77. Dr. Strangelove or: How I Learned to Stop Worrying and Love the Bomb', '78. American Beauty', '79. Good Will Hunting', '80. Braveheart', '81. Das Boot', '82. Princess Mononoke', '83. Your Name.', '84. High and Low', '85. 3 Idiots', '86. Joker', '87. Once Upon a Time in America', \"88. Singin' in the Rain\", '89. Capernaum', '90. Come and See', '91. Requiem for a Dream', '92. Toy Story 3', '93. Star Wars: Episode VI - Return of the Jedi', '94. The Hunt', '95. Eternal Sunshine of the Spotless Mind', '96. Ikiru', '97. 2001: A Space Odyssey', '98. Reservoir Dogs', '99. The Apartment', '100. Lawrence of Arabia', '101. Incendies', '102. Scarface', '103. Double Indemnity', '104. North by Northwest', '105. Citizen Kane', '106. Heat', '107. M', '108. Full Metal Jacket', '109. Up', '110. Vertigo', '111. Amélie', '112. Oppenheimer', '113. A Clockwork Orange', '114. To Kill a Mockingbird', '115. A Separation', '116. Die Hard', '117. The Sting', '118. Like Stars on Earth', '119. Indiana Jones and the Last Crusade', '120. Metropolis', '121. Snatch', '122. 1917', '123. L.A. Confidential', '124. Bicycle Thieves', '125. Downfall', '126. Dangal', '127. Taxi Driver', '128. Hamilton', '129. The Wolf of Wall Street', '130. Batman Begins', '131. For a Few Dollars More', '132. Green Book', '133. Some Like It Hot', '134. The Truman Show', '135. Judgment at Nuremberg', '136. The Kid', '137. The Father', '138. Shutter Island', '139. All About Eve', '140. There Will Be Blood', '141. Jurassic Park', '142. Casino', '143. The Sixth Sense', '144. Ran', '145. Top Gun: Maverick', '146. No Country for Old Men', '147. The Thing', \"148. Pan's Labyrinth\", '149. Unforgiven', '150. A Beautiful Mind', '151. Kill Bill: Vol. 1', '152. The Treasure of the Sierra Madre', '153. Yojimbo', '154. Prisoners', '155. Finding Nemo', '156. The Great Escape', '157. Monty Python and the Holy Grail', \"158. Howl's Moving Castle\", '159. The Elephant Man', '160. The Wild Robot', '161. Dial M for Murder', '162. Rashomon', '163. Gone with the Wind', '164. Chinatown', '165. The Secret in Their Eyes', '166. Lock, Stock and Two Smoking Barrels', '167. Klaus', '168. V for Vendetta', '169. Inside Out', '170. Three Billboards Outside Ebbing, Missouri', '171. Raging Bull', '172. Trainspotting', '173. The Bridge on the River Kwai', '174. Catch Me If You Can', '175. Fargo', '176. Warrior', '177. Harry Potter and the Deathly Hallows: Part 2', '178. Gran Torino', '179. Spider-Man: No Way Home', '180. Million Dollar Baby', '181. My Neighbor Totoro', '182. Mad Max: Fury Road', '183. Ben-Hur', '184. Children of Heaven', '185. 12 Years a Slave', '186. Barry Lyndon', '187. Before Sunrise', '188. Blade Runner', '189. The Grand Budapest Hotel', '190. Hacksaw Ridge', '191. Dead Poets Society', '192. Gone Girl', '193. Memories of Murder', '194. In the Name of the Father', '195. Monsters, Inc.', '196. The Gold Rush', '197. Ratatouille', '198. Wild Tales', '199. How to Train Your Dragon', '200. Jaws', '201. Sherlock Jr.', '202. The Deer Hunter', '203. The General', '204. Mary and Max', '205. Maharaja', '206. Ford v Ferrari', '207. The Wages of Fear', '208. On the Waterfront', '209. Demon Slayer: Kimetsu no Yaiba - Tsuzumi Mansion Arc', '210. Mr. Smith Goes to Washington', '211. Wild Strawberries', '212. The Third Man', '213. Logan', '214. Rocky', '215. Tokyo Story', '216. The Big Lebowski', '217. Spotlight', '218. The Seventh Seal', '219. Room', '220. The Terminator', '221. Hotel Rwanda', '222. Pirates of the Caribbean: The Curse of the Black Pearl', '223. Platoon', '224. La haine', '225. Jai Bhim', '226. Before Sunset', '227. The Best Years of Our Lives', '228. The Passion of Joan of Arc', '229. The Exorcist', '230. The Wizard of Oz', '231. The Incredibles', '232. Rush', '233. The Sound of Music', '234. Stand by Me', \"235. Hachi: A Dog's Tale\", '236. Network', '237. My Father and My Son', '238. The Handmaiden', '239. To Be or Not to Be', '240. The Iron Giant', '241. The Battle of Algiers', '242. Into the Wild', '243. The Grapes of Wrath', '244. Groundhog Day', '245. A Man Escaped', '246. Amores Perros', '247. The Help', '248. Rebecca', '249. A Silent Voice: The Movie']\n",
      "['1994', '1994', '1994', '1994', '1994', '1994', '1994', '1994', '1994', '1994', '1994', '1994', '1994', '1994', '1994', '1994', '1994', '1994', '1994', '1994', '1994', '1994', '1994', '1994', '1994', '1994', '1994', '1994', '1994', '1994', '1994', '1994', '1994', '1994', '1994', '1994', '1994', '1994', '1994', '1994', '1994', '1994', '1994', '1994', '1994', '1994', '1994', '1994', '1994', '1994', '1994', '1994', '1994', '1994', '1994', '1994', '1994', '1994', '1994', '1994', '1994', '1994', '1994', '1994', '1994', '1994', '1994', '1994', '1994', '1994', '1994', '1994', '1994', '1994', '1994', '1994', '1994', '1994', '1994', '1994', '1994', '1994', '1994', '1994', '1994', '1994', '1994', '1994', '1994', '1994', '1994', '1994', '1994', '1994', '1994', '1994', '1994', '1994', '1994', '1994', '1994', '1994', '1994', '1994', '1994', '1994', '1994', '1994', '1994', '1994', '1994', '1994', '1994', '1994', '1994', '1994', '1994', '1994', '1994', '1994', '1994', '1994', '1994', '1994', '1994', '1994', '1994', '1994', '1994', '1994', '1994', '1994', '1994', '1994', '1994', '1994', '1994', '1994', '1994', '1994', '1994', '1994', '1994', '1994', '1994', '1994', '1994', '1994', '1994', '1994', '1994', '1994', '1994', '1994', '1994', '1994', '1994', '1994', '1994', '1994', '1994', '1994', '1994', '1994', '1994', '1994', '1994', '1994', '1994', '1994', '1994', '1994', '1994', '1994', '1994', '1994', '1994', '1994', '1994', '1994', '1994', '1994', '1994', '1994', '1994', '1994', '1994', '1994', '1994', '1994', '1994', '1994', '1994', '1994', '1994', '1994', '1994', '1994', '1994', '1994', '1994', '1994', '1994', '1994', '1994', '1994', '1994', '1994', '1994', '1994', '1994', '1994', '1994', '1994', '1994', '1994', '1994', '1994', '1994', '1994', '1994', '1994', '1994', '1994', '1994', '1994', '1994', '1994', '1994', '1994', '1994', '1994', '1994', '1994', '1994', '1994', '1994', '1994', '1994', '1994', '1994', '1994', '1994', '1994', '1994', '1994', '1994', '1994', '1994', '1994']\n",
      "['2h 22m', '2h 22m', '2h 22m', '2h 22m', '2h 22m', '2h 22m', '2h 22m', '2h 22m', '2h 22m', '2h 22m', '2h 22m', '2h 22m', '2h 22m', '2h 22m', '2h 22m', '2h 22m', '2h 22m', '2h 22m', '2h 22m', '2h 22m', '2h 22m', '2h 22m', '2h 22m', '2h 22m', '2h 22m', '2h 22m', '2h 22m', '2h 22m', '2h 22m', '2h 22m', '2h 22m', '2h 22m', '2h 22m', '2h 22m', '2h 22m', '2h 22m', '2h 22m', '2h 22m', '2h 22m', '2h 22m', '2h 22m', '2h 22m', '2h 22m', '2h 22m', '2h 22m', '2h 22m', '2h 22m', '2h 22m', '2h 22m', '2h 22m', '2h 22m', '2h 22m', '2h 22m', '2h 22m', '2h 22m', '2h 22m', '2h 22m', '2h 22m', '2h 22m', '2h 22m', '2h 22m', '2h 22m', '2h 22m', '2h 22m', '2h 22m', '2h 22m', '2h 22m', '2h 22m', '2h 22m', '2h 22m', '2h 22m', '2h 22m', '2h 22m', '2h 22m', '2h 22m', '2h 22m', '2h 22m', '2h 22m', '2h 22m', '2h 22m', '2h 22m', '2h 22m', '2h 22m', '2h 22m', '2h 22m', '2h 22m', '2h 22m', '2h 22m', '2h 22m', '2h 22m', '2h 22m', '2h 22m', '2h 22m', '2h 22m', '2h 22m', '2h 22m', '2h 22m', '2h 22m', '2h 22m', '2h 22m', '2h 22m', '2h 22m', '2h 22m', '2h 22m', '2h 22m', '2h 22m', '2h 22m', '2h 22m', '2h 22m', '2h 22m', '2h 22m', '2h 22m', '2h 22m', '2h 22m', '2h 22m', '2h 22m', '2h 22m', '2h 22m', '2h 22m', '2h 22m', '2h 22m', '2h 22m', '2h 22m', '2h 22m', '2h 22m', '2h 22m', '2h 22m', '2h 22m', '2h 22m', '2h 22m', '2h 22m', '2h 22m', '2h 22m', '2h 22m', '2h 22m', '2h 22m', '2h 22m', '2h 22m', '2h 22m', '2h 22m', '2h 22m', '2h 22m', '2h 22m', '2h 22m', '2h 22m', '2h 22m', '2h 22m', '2h 22m', '2h 22m', '2h 22m', '2h 22m', '2h 22m', '2h 22m', '2h 22m', '2h 22m', '2h 22m', '2h 22m', '2h 22m', '2h 22m', '2h 22m', '2h 22m', '2h 22m', '2h 22m', '2h 22m', '2h 22m', '2h 22m', '2h 22m', '2h 22m', '2h 22m', '2h 22m', '2h 22m', '2h 22m', '2h 22m', '2h 22m', '2h 22m', '2h 22m', '2h 22m', '2h 22m', '2h 22m', '2h 22m', '2h 22m', '2h 22m', '2h 22m', '2h 22m', '2h 22m', '2h 22m', '2h 22m', '2h 22m', '2h 22m', '2h 22m', '2h 22m', '2h 22m', '2h 22m', '2h 22m', '2h 22m', '2h 22m', '2h 22m', '2h 22m', '2h 22m', '2h 22m', '2h 22m', '2h 22m', '2h 22m', '2h 22m', '2h 22m', '2h 22m', '2h 22m', '2h 22m', '2h 22m', '2h 22m', '2h 22m', '2h 22m', '2h 22m', '2h 22m', '2h 22m', '2h 22m', '2h 22m', '2h 22m', '2h 22m', '2h 22m', '2h 22m', '2h 22m', '2h 22m', '2h 22m', '2h 22m', '2h 22m', '2h 22m', '2h 22m', '2h 22m', '2h 22m', '2h 22m', '2h 22m', '2h 22m', '2h 22m', '2h 22m', '2h 22m', '2h 22m', '2h 22m', '2h 22m', '2h 22m', '2h 22m', '2h 22m', '2h 22m', '2h 22m', '2h 22m', '2h 22m', '2h 22m', '2h 22m', '2h 22m', '2h 22m']\n",
      "['9.2', '9.2', '9.2', '9.2', '9.2', '9.2', '9.2', '9.2', '9.2', '9.2', '9.2', '9.2', '9.2', '9.2', '9.2', '9.2', '9.2', '9.2', '9.2', '9.2', '9.2', '9.2', '9.2', '9.2', '9.2', '9.2', '9.2', '9.2', '9.2', '9.2', '9.2', '9.2', '9.2', '9.2', '9.2', '9.2', '9.2', '9.2', '9.2', '9.2', '9.2', '9.2', '9.2', '9.2', '9.2', '9.2', '9.2', '9.2', '9.2', '9.2', '9.2', '9.2', '9.2', '9.2', '9.2', '9.2', '9.2', '9.2', '9.2', '9.2', '9.2', '9.2', '9.2', '9.2', '9.2', '9.2', '9.2', '9.2', '9.2', '9.2', '9.2', '9.2', '9.2', '9.2', '9.2', '9.2', '9.2', '9.2', '9.2', '9.2', '9.2', '9.2', '9.2', '9.2', '9.2', '9.2', '9.2', '9.2', '9.2', '9.2', '9.2', '9.2', '9.2', '9.2', '9.2', '9.2', '9.2', '9.2', '9.2', '9.2', '9.2', '9.2', '9.2', '9.2', '9.2', '9.2', '9.2', '9.2', '9.2', '9.2', '9.2', '9.2', '9.2', '9.2', '9.2', '9.2', '9.2', '9.2', '9.2', '9.2', '9.2', '9.2', '9.2', '9.2', '9.2', '9.2', '9.2', '9.2', '9.2', '9.2', '9.2', '9.2', '9.2', '9.2', '9.2', '9.2', '9.2', '9.2', '9.2', '9.2', '9.2', '9.2', '9.2', '9.2', '9.2', '9.2', '9.2', '9.2', '9.2', '9.2', '9.2', '9.2', '9.2', '9.2', '9.2', '9.2', '9.2', '9.2', '9.2', '9.2', '9.2', '9.2', '9.2', '9.2', '9.2', '9.2', '9.2', '9.2', '9.2', '9.2', '9.2', '9.2', '9.2', '9.2', '9.2', '9.2', '9.2', '9.2', '9.2', '9.2', '9.2', '9.2', '9.2', '9.2', '9.2', '9.2', '9.2', '9.2', '9.2', '9.2', '9.2', '9.2', '9.2', '9.2', '9.2', '9.2', '9.2', '9.2', '9.2', '9.2', '9.2', '9.2', '9.2', '9.2', '9.2', '9.2', '9.2', '9.2', '9.2', '9.2', '9.2', '9.2', '9.2', '9.2', '9.2', '9.2', '9.2', '9.2', '9.2', '9.2', '9.2', '9.2', '9.2', '9.2', '9.2', '9.2', '9.2', '9.2', '9.2', '9.2', '9.2', '9.2', '9.2', '9.2', '9.2', '9.2', '9.2', '9.2', '9.2', '9.2', '9.2', '9.2', '9.2', '9.2', '9.2', '9.2', '9.2', '9.2', '9.2', '9.2']\n"
     ]
    }
   ],
   "source": [
    "#IBDM DATAS\n",
    "import selenium.webdriver as driver\n",
    "import pandas as pd\n",
    "from time import sleep\n",
    "from selenium.webdriver.common.by import By\n",
    "from selenium import webdriver\n",
    "from webdriver_manager.chrome import ChromeDriverManager\n",
    "\n",
    "driver=webdriver.Chrome()\n",
    "sleep(10)\n",
    "driver.get(\"https://www.imdb.com/chart/top/\")\n",
    "movies=driver.find_elements(By.XPATH,'//h3[@class=\"ipc-title__text\"]')\n",
    "years = driver.find_elements(By.XPATH,'//span[@class=\"sc-300a8231-7 eaXxft cli-title-metadata-item\"]')\n",
    "rating=driver.find_elements(By.XPATH,'//span[@class=\"ipc-rating-star--rating\"]')\n",
    "title=[]\n",
    "yor=[]\n",
    "duration=[]\n",
    "m_rating=[]\n",
    "for movie,year,ratin in zip(movies,years,rating):\n",
    "    title.append(movie.text)\n",
    "    yor.append(years[0].text)\n",
    "    duration.append(years[1].text)\n",
    "    m_rating.append(rating[1].text)\n",
    "print(title)\n",
    "print(yor)\n",
    "print(duration)\n",
    "print(m_rating)\n",
    "data=pd.DataFrame({\"Movie_Title\":title,\"Year_Of_Release\":yor,\"Duration\":duration,\"Movie_Rating\":m_rating})\n",
    "data.to_excel(\"D:/Besant Technologies/OCT & NOV Python/A Project File/Web Scrapping Project/osm2.py/IBDM.xlsx\",index=False)"
   ]
  },
  {
   "cell_type": "code",
   "execution_count": null,
   "metadata": {},
   "outputs": [],
   "source": []
  }
 ],
 "metadata": {
  "kernelspec": {
   "display_name": "base",
   "language": "python",
   "name": "python3"
  },
  "language_info": {
   "codemirror_mode": {
    "name": "ipython",
    "version": 3
   },
   "file_extension": ".py",
   "mimetype": "text/x-python",
   "name": "python",
   "nbconvert_exporter": "python",
   "pygments_lexer": "ipython3",
   "version": "3.12.7"
  }
 },
 "nbformat": 4,
 "nbformat_minor": 2
}

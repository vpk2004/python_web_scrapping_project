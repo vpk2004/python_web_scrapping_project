{
 "cells": [
  {
   "cell_type": "code",
   "execution_count": 5,
   "metadata": {},
   "outputs": [],
   "source": [
    "import selenium.webdriver as sw\n",
    "import pandas as pd\n",
    "from time import sleep\n",
    "from selenium.webdriver.common.by import By\n",
    "from selenium import webdriver\n",
    "from webdriver_manager.chrome import ChromeDriverManager\n"
   ]
  },
  {
   "cell_type": "code",
   "execution_count": 6,
   "metadata": {},
   "outputs": [],
   "source": [
    "sw=webdriver.Chrome()\n",
    "sw.get(\"https://www.flipkart.in/\")\n"
   ]
  },
  {
   "cell_type": "code",
   "execution_count": 7,
   "metadata": {},
   "outputs": [],
   "source": [
    "sw.find_element(By.XPATH,'//*[@id=\"container\"]/div/div[1]/div/div/div/div/div[1]/div/div/div/div[1]/div[1]/header/div[1]/div[2]/form/div/div/input').send_keys(\"Story Books\")"
   ]
  },
  {
   "cell_type": "code",
   "execution_count": 8,
   "metadata": {},
   "outputs": [],
   "source": [
    "sw.find_element(By.XPATH,'//*[@id=\"container\"]/div/div[1]/div/div/div/div/div[1]/div/div/div/div[1]/div[1]/header/div[1]/div[2]/form/div/button').click()"
   ]
  },
  {
   "cell_type": "code",
   "execution_count": 9,
   "metadata": {},
   "outputs": [],
   "source": [
    "b_n=sw.find_elements(By.XPATH,'//a[@class=\"wjcEIp\"]')"
   ]
  },
  {
   "cell_type": "code",
   "execution_count": 10,
   "metadata": {},
   "outputs": [],
   "source": [
    "a_n=sw.find_elements(By.XPATH,'//div[@class=\"NqpwHC\"]')"
   ]
  },
  {
   "cell_type": "code",
   "execution_count": 11,
   "metadata": {},
   "outputs": [],
   "source": [
    "r_b=sw.find_elements(By.XPATH,'//div[@class=\"XQDdHH\"]')"
   ]
  },
  {
   "cell_type": "code",
   "execution_count": 12,
   "metadata": {},
   "outputs": [],
   "source": [
    "p_p=sw.find_elements(By.XPATH,'//div[@class=\"Nx9bqj\"]')"
   ]
  },
  {
   "cell_type": "code",
   "execution_count": 13,
   "metadata": {},
   "outputs": [],
   "source": [
    "o=sw.find_elements(By.XPATH,'//div[@class=\"UkUFwK\"]')"
   ]
  },
  {
   "cell_type": "code",
   "execution_count": 14,
   "metadata": {},
   "outputs": [],
   "source": [
    "de=sw.find_elements(By.XPATH,'//div[@class=\"yiggsN\"]')"
   ]
  },
  {
   "cell_type": "code",
   "execution_count": 15,
   "metadata": {},
   "outputs": [
    {
     "name": "stdout",
     "output_type": "stream",
     "text": [
      "['Story Books Set of 10 in English with 101 Moral Stories...', 'Greatest Short Stories for Children', 'The Magic Of The Lost Temple', 'Aristotle and Dante Discover the Secrets of the Univers...', 'All-Time Favourites for Children', 'A Christmas Carol', 'The Book Thief', 'Dog Man 13', 'The Inheritance Games - The Inheritance Games by Jenni...', 'Animal Farm', 'Gulliver Travels', 'Harry Potter Box Set: The Complete Collection (Children...', 'The Cruel Prince (The Folk of the Air)', 'Heroes of Olympus Complete Collection', 'Harry Potter and the Goblet of Fire', 'Harry Potter and the Prisoner of Azkaban', 'Blossom Moral Story Book For Kids 1 Years To 10 Years O...', 'The Story of My Experiments with Truth', 'Tagarpura ki Kahaniyan', 'Six of Crows', '101 Panchatantra Ki Kahaniyan (Illustrated)| Moral Stor...', 'Tales of Mystery and Horror', 'Set of 8 Panchatantra and Traditional Story Books colle...', 'Tinkle Origins Volume 5. 1983', 'You are the Best Wife', 'Dracula', 'A Little Princess', \"Pandit Vishnu Sharma's Panchatantra for Children - By ...\", 'Diary of a Wimpy Kid (Book 1)', \"A Good Girl's Guide to Murder\", 'Panchatantra', 'The Adventures of Tom Sawyer']\n",
      "['English, Paperback, unknown', 'English, Paperback, Various', 'English, Paperback, Murty Sudha', 'English, Paperback, Saenz Benjamin Alire', 'English, Paperback, Bond Ruskin', 'English, Paperback, Dickens Charles', 'English, Paperback, Zusak Markus', 'English, Hardcover, PILKEY DAV', 'English, Paperback, Barnes Jennifer Lynn', 'English, Paperback, Orwell George', 'English, Hardcover, Swift Jonathan', 'English, Book, Rowling J. K.', 'English, Paperback, Black Holly', 'English, Paperback, Riordan Rick', 'English, Paperback, Rowling J. K.', 'English, Paperback, Rowling J. K.', 'Paperback, Content Team at Target Publications', 'English, Paperback, Gandhi M. K.', 'Hindi, Paperback, Ankita Damani', 'English, Paperback, Bardugo Leigh', 'Paperback, Content Team At target Publications', 'English, Hardcover, Poe Edgar Allan', 'English, Paperback, Inikao', 'English, Hardcover, Amar Chitra Katha', 'English, Paperback, Pandey Ajay K.', 'English, Paperback, Stoker Bram', 'English, Paperback, Burnett Frances Hodgson', 'English, Paperback, Vilas Shubha', 'English, Paperback, Kinney Jeff', 'English, Paperback, Jackson Holly', 'English, Paperback, Sharma Vishnu', 'English, Hardcover, Twain Mark']\n",
      "['4.4', '4.2', '4.6', '4.6', '4.6', '4.4', '4.6', '4.4', '4.6', '4.4', '4.5', '4.6', '4.6', '4.7', '4.6', '4.4', '4.5', '4.6', '4.4', '4.3', '4.3', '4.6', '4.5', '4.3', '4.3', '4.4', '4.6', '4.4', '4.1', '4.4', '4.4', '4.3']\n",
      "['₹189', '₹199', '₹275', '₹402', '₹236', '₹129', '₹234', '₹455', '₹363', '₹650', '₹209', '₹1,595', '₹262', '₹1,100', '₹499', '₹159', '₹149', '₹199', '₹255', '₹369', '₹188', '₹192', '₹349', '₹162', '₹250', '₹174', '₹184', '₹315', '₹209', '₹214', '₹244', '₹245']\n",
      "['46% off', '33% off', '19% off', '5% off', '13% off', '52% off', '34% off', '19% off', '30% off', '63% off', '47% off', '46% off', '84% off', '20% off', '40% off', '57% off', '7% off', '11% off', '31% off', '18% off', '12% off', '7% off', '21% off', '76% off', '10% off', '18% off', '82% off', '21% off', '12% off', '29% off', '39% off', '25% off']\n",
      "['Free delivery', 'Free delivery', 'Free delivery', 'Free delivery', 'Free delivery', 'Free delivery', 'Free delivery', 'Free delivery', 'Free delivery', 'Free delivery', 'Free delivery', 'Free delivery', 'Free delivery', 'Free delivery', 'Free delivery', 'Free delivery', 'Free delivery', 'Free delivery', 'Free delivery', 'Free delivery', 'Free delivery', 'Free delivery', 'Free delivery', 'Free delivery', 'Free delivery', 'Free delivery', 'Free delivery', 'Free delivery', 'Free delivery', 'Free delivery', 'Free delivery', 'Free delivery']\n"
     ]
    }
   ],
   "source": [
    "book_name=[]\n",
    "author=[]\n",
    "review=[]\n",
    "price=[]\n",
    "offer=[]\n",
    "delivery=[]\n",
    "for b,a,r,p,o,d in zip(b_n,a_n,r_b,p_p,o,de):\n",
    "    book_name.append(b.text)\n",
    "    author.append(a.text)\n",
    "    review.append(r.text)\n",
    "    price.append(p.text)\n",
    "    offer.append(o.text)\n",
    "    delivery.append(d.text)\n",
    "print(book_name)\n",
    "print(author)\n",
    "print(review)\n",
    "print(price)\n",
    "print(offer)\n",
    "print(delivery)\n"
   ]
  },
  {
   "cell_type": "code",
   "execution_count": 16,
   "metadata": {},
   "outputs": [],
   "source": [
    "val=pd.DataFrame({\"Book_name\":book_name,\"Author_name\":author,\"review\":review,\"price\":price,\"offer\":offer,\"delivery\":delivery})\n",
    "val.to_excel(\"C:/Users/Praveen Kumar/Dataset/Task_File/Book_Details.xlsx\",index=False)"
   ]
  },
  {
   "cell_type": "code",
   "execution_count": null,
   "metadata": {},
   "outputs": [],
   "source": []
  }
 ],
 "metadata": {
  "kernelspec": {
   "display_name": "base",
   "language": "python",
   "name": "python3"
  },
  "language_info": {
   "codemirror_mode": {
    "name": "ipython",
    "version": 3
   },
   "file_extension": ".py",
   "mimetype": "text/x-python",
   "name": "python",
   "nbconvert_exporter": "python",
   "pygments_lexer": "ipython3",
   "version": "3.12.7"
  }
 },
 "nbformat": 4,
 "nbformat_minor": 2
}
